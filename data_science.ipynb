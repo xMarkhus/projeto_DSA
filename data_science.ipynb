{
 "cells": [
  {
   "cell_type": "markdown",
   "metadata": {},
   "source": [
    "# <font color='blue'>Data Science Academy</font>\n",
    "\n",
    "## <font color='blue'>Fundamentos de Linguagem Python Para Análise de Dados e Data Science</font>\n",
    "\n",
    "## <font color='blue'>Projeto 2</font>\n",
    "\n",
    "## <font color='blue'>Análise Exploratória de Dados em Linguagem Python Para a Área de Varejo</font>"
   ]
  },
  {
   "cell_type": "code",
   "execution_count": null,
   "metadata": {},
   "outputs": [],
   "source": [
    "import pandas as pd\n",
    "import numpy as np\n",
    "import matplotlib.pyplot as plt\n",
    "import seaborn as sns\n",
    "import datetime as dt"
   ]
  },
  {
   "cell_type": "markdown",
   "metadata": {},
   "source": [
    "## Carregando os Dados"
   ]
  },
  {
   "cell_type": "code",
   "execution_count": null,
   "metadata": {},
   "outputs": [],
   "source": [
    "# carregamento e visualização de uma amostra do dataframe\n",
    "df = pd.read_csv('dataset.csv')\n",
    "df.head()"
   ]
  },
  {
   "cell_type": "markdown",
   "metadata": {},
   "source": [
    "## Análise Exploratória"
   ]
  },
  {
   "cell_type": "code",
   "execution_count": null,
   "metadata": {},
   "outputs": [],
   "source": [
    "# verificando o tipo de dado de cada coluna\n",
    "df.dtypes"
   ]
  },
  {
   "cell_type": "code",
   "execution_count": null,
   "metadata": {},
   "outputs": [],
   "source": [
    "# verificando a existência de duplicatas\n",
    "df[df.duplicated()]"
   ]
  },
  {
   "cell_type": "code",
   "execution_count": null,
   "metadata": {},
   "outputs": [],
   "source": [
    "# verificando a existência de valores nulos\n",
    "df.isnull().sum()"
   ]
  },
  {
   "cell_type": "code",
   "execution_count": null,
   "metadata": {},
   "outputs": [],
   "source": [
    "# resumo estatístico da coluna que contém os valores de vendas\n",
    "df['Valor_Venda'].describe()"
   ]
  },
  {
   "cell_type": "markdown",
   "metadata": {},
   "source": [
    "## Pergunta de Negócio 1:\n",
    "\n",
    "### Qual cidade com maior valor de venda de produtos da categoria 'Office Supplies'?"
   ]
  },
  {
   "cell_type": "code",
   "execution_count": null,
   "metadata": {},
   "outputs": [],
   "source": [
    "# filtrando o dataframe para categroria Office Supplies\n",
    "df_Os = df[df['Categoria'] == 'Office Supplies']\n",
    "df_Os.head()"
   ]
  },
  {
   "cell_type": "code",
   "execution_count": null,
   "metadata": {},
   "outputs": [],
   "source": [
    "# agrupando por cidade com o valor de venda acumulados\n",
    "df_Os.groupby('Cidade')['Valor_Venda'].sum()"
   ]
  },
  {
   "cell_type": "code",
   "execution_count": null,
   "metadata": {},
   "outputs": [],
   "source": [
    "# recuperando a cidade com maior valor acumulado de vendas\n",
    "cidade_Com_Maior_Venda = df_Os.groupby('Cidade')['Valor_Venda'].sum().idxmax()\n",
    "print(f'A cidade com maior valor acumulado de vendas é: {cidade_Com_Maior_Venda}')"
   ]
  },
  {
   "cell_type": "code",
   "execution_count": null,
   "metadata": {},
   "outputs": [],
   "source": [
    "# conferindo o raning das 5 primeiras cidades em ordem decrescente\n",
    "df_Os.groupby('Cidade')['Valor_Venda'].sum().sort_values(ascending = False).head()"
   ]
  },
  {
   "cell_type": "markdown",
   "metadata": {},
   "source": [
    "## Pergunta de Negócio 2:\n",
    "\n",
    "### Qual o total de vendas por data do pedido?\n",
    "\n",
    "Demonstre o resultado através de um gráfico de barras."
   ]
  },
  {
   "cell_type": "code",
   "execution_count": null,
   "metadata": {},
   "outputs": [],
   "source": [
    "# filtrando dataframe por data pedido\n",
    "df_Filtrado_Por_Data = df.groupby('Data_Pedido')['Valor_Venda'].sum()\n",
    "df_Filtrado_Por_Data.head()"
   ]
  },
  {
   "cell_type": "code",
   "execution_count": null,
   "metadata": {},
   "outputs": [],
   "source": [
    "# plotando o gráfico(a data do pedido está sendo tratada como uma variável categórica e não como série temporal.)\n",
    "plt.figure(figsize = (16, 6))\n",
    "df_Filtrado_Por_Data.plot(x = 'Data_Pedido', y = 'Valor_Venda', color = 'green')\n",
    "plt.title('Total de vendas por data do pedido')\n",
    "plt.plot()"
   ]
  },
  {
   "cell_type": "markdown",
   "metadata": {},
   "source": [
    "## Pergunta de Negócio 3:\n",
    "\n",
    "### Qual o total de vendas por estado?\n",
    "\n",
    "Demonstre o resultado através de um gráfico de barras."
   ]
  },
  {
   "cell_type": "code",
   "execution_count": null,
   "metadata": {},
   "outputs": [],
   "source": [
    "# filtrando o dataframe por estado\n",
    "df_Filtrado_Por_Estado = df.groupby('Estado')['Valor_Venda'].sum().reset_index()\n",
    "df_Filtrado_Por_Estado.head(10)"
   ]
  },
  {
   "cell_type": "code",
   "execution_count": null,
   "metadata": {},
   "outputs": [],
   "source": [
    "# plotando o gráfico\n",
    "plt.figure(figsize = (16, 6))\n",
    "sns.barplot(data = df_Filtrado_Por_Estado,\n",
    "           x = 'Estado',\n",
    "           y = 'Valor_Venda',\n",
    "           ).set(title = 'Vendas por estado')\n",
    "plt.xticks(rotation = 80)\n",
    "plt.show()"
   ]
  },
  {
   "cell_type": "markdown",
   "metadata": {},
   "source": [
    "## Pergunta de Negócio 4:\n",
    "\n",
    "### Quais são as 10 cidades com maior total de vendas?\n",
    "\n",
    "Demonstre o resultado através de um gráfico de barras."
   ]
  },
  {
   "cell_type": "code",
   "execution_count": null,
   "metadata": {},
   "outputs": [],
   "source": [
    "# ranking das 10 primeiras cidades com maior valor de venda\n",
    "df_Ranking_10_cidades = df.groupby('Cidade')['Valor_Venda'].sum().reset_index().sort_values(by = 'Valor_Venda', ascending = False).head(10)\n",
    "df_Ranking_10_cidades"
   ]
  },
  {
   "cell_type": "code",
   "execution_count": null,
   "metadata": {},
   "outputs": [],
   "source": [
    "# plotando o gráfico\n",
    "plt.figure(figsize = (16,6))\n",
    "sns.barplot(data = df_Ranking_10_cidades,\n",
    "           x = 'Cidade',\n",
    "           y = 'Valor_Venda').set(title = 'Top 10 cidades com maior valor de venda')\n",
    "plt.show()"
   ]
  },
  {
   "cell_type": "markdown",
   "metadata": {},
   "source": [
    "## Pergunta de Negócio 5:\n",
    "\n",
    "### Qual segmento teve o maior total de vendas?\n",
    "\n",
    "Demonstre o resultado através de um gráfico de pizza."
   ]
  },
  {
   "cell_type": "code",
   "execution_count": null,
   "metadata": {},
   "outputs": [],
   "source": [
    "# argupando o dataframe por Segmento\n",
    "df_Filtrado_Por_Segmento = df.groupby('Segmento')['Valor_Venda'].sum().reset_index().sort_values(by = 'Valor_Venda', ascending = False)\n",
    "df_Filtrado_Por_Segmento = df_Filtrado_Por_Segmento\n",
    "df_Filtrado_Por_Segmento.head()"
   ]
  },
  {
   "cell_type": "code",
   "execution_count": null,
   "metadata": {},
   "outputs": [],
   "source": [
    "# função para converter os dados da coluna dos valores de vendas em valores financeiros\n",
    "import locale\n",
    "\n",
    "locale.setlocale(locale.LC_ALL, '')\n",
    "\n",
    "def autopct_format(values):\n",
    "    def my_format(pct):\n",
    "        total = sum(values)\n",
    "        val = int(round(pct * total / 100.0))\n",
    "        return locale.currency(val, grouping = True)\n",
    "    return my_format"
   ]
  },
  {
   "cell_type": "code",
   "execution_count": null,
   "metadata": {},
   "outputs": [],
   "source": [
    "# plotando o gráfico de pizza\n",
    "plt.figure(figsize = (16, 6))\n",
    "\n",
    "plt.pie(df_Filtrado_Por_Segmento['Valor_Venda'],\n",
    "       labels = df_Filtrado_Por_Segmento['Segmento'],\n",
    "       autopct = autopct_format(df_Filtrado_Por_Segmento['Valor_Venda']),\n",
    "       startangle = 90)\n",
    "\n",
    "centro_Circulo = plt.Circle((0, 0), 0.82, fc = 'white')\n",
    "fig = plt.gcf()\n",
    "fig.gca().add_artist(centro_Circulo)\n",
    "\n",
    "total_vendas = sum(df_Filtrado_Por_Segmento['Valor_Venda'])\n",
    "total_vendas_formatado = locale.currency(total_vendas, grouping = True)\n",
    "\n",
    "plt.annotate(text = 'Total de Vendas: ' + total_vendas_formatado, xy = (-0.25, 0))\n",
    "plt.title('Total de vendas por segmento')\n",
    "plt.show()"
   ]
  },
  {
   "cell_type": "markdown",
   "metadata": {},
   "source": [
    "## Pergunta de Negócio 6:\n",
    "\n",
    "### Qual o total de vendas por Segmento e por Ano?"
   ]
  },
  {
   "cell_type": "code",
   "execution_count": null,
   "metadata": {},
   "outputs": [],
   "source": [
    "# visualizando o dataframe e ajustando a coluna de datado do pedido para o formato adequado\n",
    "df.head()"
   ]
  },
  {
   "cell_type": "code",
   "execution_count": null,
   "metadata": {},
   "outputs": [],
   "source": [
    "df['Data_Pedido'] = pd.to_datetime(df['Data_Pedido'], dayfirst = True)\n",
    "df.dtypes"
   ]
  },
  {
   "cell_type": "code",
   "execution_count": null,
   "metadata": {},
   "outputs": [],
   "source": [
    "# extraindo o ano de cada data\n",
    "df['Ano'] = df['Data_Pedido'].dt.year"
   ]
  },
  {
   "cell_type": "code",
   "execution_count": null,
   "metadata": {},
   "outputs": [],
   "source": [
    "df.head()"
   ]
  },
  {
   "cell_type": "code",
   "execution_count": null,
   "metadata": {},
   "outputs": [],
   "source": [
    "# filtrando por ano e segmento\n",
    "df_Filtrado_Por_Ano_E_Segmento = df.groupby(['Ano', 'Segmento'])['Valor_Venda'].sum()\n",
    "df_Filtrado_Por_Ano_E_Segmento"
   ]
  },
  {
   "cell_type": "markdown",
   "metadata": {},
   "source": [
    "## Pergunta de Negócio 7:\n",
    "\n",
    "Os gestores da empresa estão considerando conceder diferentes faixas de descontos e gostariam de fazer uma simulação com base na regra abaixo:\n",
    "\n",
    "- Se o Valor_Venda for maior que 1000 recebe 15% de desconto.\n",
    "- Se o Valor_Venda for menor que 1000 recebe 10% de desconto.\n",
    "\n",
    "### Quantas vendas receberiam 15% de Desconto?"
   ]
  },
  {
   "cell_type": "code",
   "execution_count": null,
   "metadata": {},
   "outputs": [],
   "source": [
    "# criando uma nova coluna com as regras acima\n",
    "df['Desconto'] = np.where(df['Valor_Venda'] > 1000, 0.15, 0.10)\n",
    "df.head()"
   ]
  },
  {
   "cell_type": "code",
   "execution_count": null,
   "metadata": {},
   "outputs": [],
   "source": [
    "# total de registros para cada valor de desconto\n",
    "df['Desconto'].value_counts()"
   ]
  },
  {
   "cell_type": "code",
   "execution_count": null,
   "metadata": {},
   "outputs": [],
   "source": [
    "print('9243 vendas receberiam desconto de 10%, 457 vendas receberiam desconto de 15%.')"
   ]
  },
  {
   "cell_type": "markdown",
   "metadata": {},
   "source": [
    "## Pergunta de Negócio 8:\n",
    "\n",
    "### Considere que a empresa decida conceder o desconto de 15% do item anterior. Qual seria a Média do valor de venda antes e depois do desconto?"
   ]
  },
  {
   "cell_type": "code",
   "execution_count": null,
   "metadata": {},
   "outputs": [],
   "source": [
    "# criando uma coluna com o valor de venda descontado\n",
    "df['Valor_Venda_Desconto'] = df['Valor_Venda'] - (df['Valor_Venda'] * df['Desconto'])\n",
    "df.head()"
   ]
  },
  {
   "cell_type": "code",
   "execution_count": null,
   "metadata": {},
   "outputs": [],
   "source": [
    "# filtrando as vendas antes do desconto de 15%\n",
    "df_Valor_Sem_Desconto = df.loc[df['Desconto'] == 0.15, 'Valor_Venda']"
   ]
  },
  {
   "cell_type": "code",
   "execution_count": null,
   "metadata": {},
   "outputs": [],
   "source": [
    "# filtrando as vendas com desconto de 15%\n",
    "df_Valor_Com_Desconto = df.loc[df['Desconto'] == 0.15, 'Valor_Venda_Desconto']"
   ]
  },
  {
   "cell_type": "code",
   "execution_count": null,
   "metadata": {},
   "outputs": [],
   "source": [
    "# calculando a média das vendas antes do desconto\n",
    "media_Sem_Desconto = df_Valor_Sem_Desconto.mean()"
   ]
  },
  {
   "cell_type": "code",
   "execution_count": null,
   "metadata": {},
   "outputs": [],
   "source": [
    "# calculando a média das vendas depois do desconto\n",
    "media_Com_Desconto = df_Valor_Com_Desconto.mean()"
   ]
  },
  {
   "cell_type": "code",
   "execution_count": null,
   "metadata": {},
   "outputs": [],
   "source": [
    "print(f'Média do valor de venda sem desconto: {round(media_Sem_Desconto, 2)}. \\\n",
    "Média do valor de venda com desconto: {round(media_Com_Desconto, 2)}')"
   ]
  },
  {
   "cell_type": "markdown",
   "metadata": {},
   "source": [
    "## Pergunta de Negócio 9:\n",
    "\n",
    "### Qual a Média de vendas por Segmento, por Ano e por Mês?\n",
    "\n",
    "Demonstre o resultado através de gráfico de linha."
   ]
  },
  {
   "cell_type": "code",
   "execution_count": null,
   "metadata": {},
   "outputs": [],
   "source": [
    "# extraindo o mês criando uma nova coluna\n",
    "df['Mes'] = df['Data_Pedido'].dt.month\n",
    "df.head()"
   ]
  },
  {
   "cell_type": "code",
   "execution_count": null,
   "metadata": {},
   "outputs": [],
   "source": [
    "# agrupando por ano, mes e segmento e calculando estatísticas da coluna venda\n",
    "df_Agrupado_Ano_Mes_Segmento = df.groupby(['Ano', 'Mes', 'Segmento'])['Valor_Venda'].agg([np.mean, np.sum, np.median])\n",
    "df_Agrupado_Ano_Mes_Segmento"
   ]
  },
  {
   "cell_type": "code",
   "execution_count": null,
   "metadata": {},
   "outputs": [],
   "source": [
    "# plotando o gráfico de linhas\n",
    "plt.figure(figsize = (12, 6))\n",
    "sns.set()\n",
    "fig1 = sns.relplot(kind = 'line',\n",
    "           data = df_Agrupado_Ano_Mes_Segmento,\n",
    "           y = 'mean',\n",
    "           x = 'Mes',\n",
    "           hue = 'Segmento',\n",
    "           col = 'Ano',\n",
    "           col_wrap = 4)\n",
    "plt.show()"
   ]
  },
  {
   "cell_type": "markdown",
   "metadata": {},
   "source": [
    "## Pergunta de Negócio 10:\n",
    "\n",
    "### Qual o total de vendas por categoria e subcategoria, considerando somente as Top 12 subcategorias? \n",
    "\n",
    "Demonstre tudo através de um único gráfico."
   ]
  },
  {
   "cell_type": "code",
   "execution_count": null,
   "metadata": {},
   "outputs": [],
   "source": [
    "# agrupando por categoria e subcategoria e obtendo a soma da coluna valor de venda e exibindo somente os 12 primeiros registros\n",
    "df_Agrupado_Categoria_Subcategoria_Top12 = \\\n",
    "df.groupby(['Categoria', 'SubCategoria']).sum(numeric_only = True).sort_values(by = 'Valor_Venda', ascending =  False).head(12)"
   ]
  },
  {
   "cell_type": "code",
   "execution_count": null,
   "metadata": {},
   "outputs": [],
   "source": [
    "# convertendo a coluna Valor_Venda em número inteiro e classificando por categoria\n",
    "df_Agrupado_Categoria_Subcategoria_Top12 = \\\n",
    "df_Agrupado_Categoria_Subcategoria_Top12[['Valor_Venda']].astype(int).sort_values(by = 'Categoria').reset_index()"
   ]
  },
  {
   "cell_type": "code",
   "execution_count": null,
   "metadata": {},
   "outputs": [],
   "source": [
    "df_Agrupado_Categoria_Subcategoria_Top12"
   ]
  },
  {
   "cell_type": "code",
   "execution_count": null,
   "metadata": {},
   "outputs": [],
   "source": [
    "df_Soma_Total_Por_Categoria = \\\n",
    "df_Agrupado_Categoria_Subcategoria_Top12.groupby('Categoria').sum(numeric_only = True).reset_index()"
   ]
  },
  {
   "cell_type": "code",
   "execution_count": null,
   "metadata": {},
   "outputs": [],
   "source": [
    "df_Soma_Total_Por_Categoria"
   ]
  },
  {
   "cell_type": "code",
   "execution_count": null,
   "metadata": {},
   "outputs": [],
   "source": [
    "# convertendo a soma total da coluna Valor_Venda para notação financeira\n",
    "total_Venda_Por_Categoria = sum(df_Soma_Total_Por_Categoria['Valor_Venda'])\n",
    "valor_Formato_SomaC = locale.currency(total_Venda_Por_Categoria, grouping = True)"
   ]
  },
  {
   "cell_type": "code",
   "execution_count": null,
   "metadata": {},
   "outputs": [],
   "source": [
    "# Listas de cores para categorias\n",
    "cores_categorias = ['#5d00de',\n",
    "                    '#0ee84f',\n",
    "                    '#e80e27']"
   ]
  },
  {
   "cell_type": "code",
   "execution_count": null,
   "metadata": {},
   "outputs": [],
   "source": [
    "# Listas de cores para subcategorias\n",
    "cores_subcategorias = ['#aa8cd4',\n",
    "                       '#aa8cd5',\n",
    "                       '#aa8cd6',\n",
    "                       '#aa8cd7',\n",
    "                       '#26c957',\n",
    "                       '#26c958',\n",
    "                       '#26c959',\n",
    "                       '#26c960',\n",
    "                       '#e65e65',\n",
    "                       '#e65e66',\n",
    "                       '#e65e67',\n",
    "                       '#e65e68']"
   ]
  },
  {
   "cell_type": "code",
   "execution_count": null,
   "metadata": {},
   "outputs": [],
   "source": [
    "# plotando o gráfico\n",
    "fig, ax = plt.subplots(figsize = (18, 12))\n",
    "\n",
    "p1 = ax.pie(df_Soma_Total_Por_Categoria['Valor_Venda'],\n",
    "      radius = 1,\n",
    "      labels = df_Soma_Total_Por_Categoria['Categoria'],\n",
    "      colors = cores_categorias,\n",
    "      wedgeprops = dict(edgecolor = 'white'))\n",
    "\n",
    "p2 = ax.pie(df_Agrupado_Categoria_Subcategoria_Top12['Valor_Venda'],\n",
    "           radius = 0.9,\n",
    "           labels = df_Agrupado_Categoria_Subcategoria_Top12['SubCategoria'],\n",
    "           autopct = autopct_format(df_Agrupado_Categoria_Subcategoria_Top12['Valor_Venda']),\n",
    "           colors = cores_subcategorias,\n",
    "           labeldistance = 0.7,\n",
    "           wedgeprops = dict(edgecolor = 'white'),\n",
    "           pctdistance = 0.65,\n",
    "           rotatelabels = True)\n",
    "\n",
    "centro_Circulo =  plt.Circle((0, 0), 0.6, fc = 'white')\n",
    "\n",
    "fig = plt.gcf()\n",
    "fig.gca().add_artist(centro_Circulo)\n",
    "plt.annotate(text =  'Total de Vendas: ' + valor_Formato_SomaC, xy = (-0.2, 0))\n",
    "plt.title('Total de Vendas por Categoria e top 12 SubCategorias')\n",
    "plt.show()"
   ]
  }
 ],
 "metadata": {
  "kernelspec": {
   "display_name": "Python 3 (ipykernel)",
   "language": "python",
   "name": "python3"
  },
  "language_info": {
   "codemirror_mode": {
    "name": "ipython",
    "version": 3
   },
   "file_extension": ".py",
   "mimetype": "text/x-python",
   "name": "python",
   "nbconvert_exporter": "python",
   "pygments_lexer": "ipython3",
   "version": "3.10.12"
  }
 },
 "nbformat": 4,
 "nbformat_minor": 4
}
